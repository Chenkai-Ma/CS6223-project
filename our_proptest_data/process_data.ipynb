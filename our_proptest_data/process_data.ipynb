{
 "cells": [
  {
   "cell_type": "markdown",
   "metadata": {},
   "source": [
    "# Process data format to make it compatible with OpenAI"
   ]
  },
  {
   "cell_type": "code",
   "execution_count": 2,
   "metadata": {},
   "outputs": [],
   "source": [
    "import os\n",
    "import json"
   ]
  },
  {
   "cell_type": "code",
   "execution_count": 3,
   "metadata": {},
   "outputs": [],
   "source": [
    "def jsonlines_load(fname: str):\n",
    "    with open(fname, 'r') as f:\n",
    "        return [json.loads(line) for line in f]"
   ]
  },
  {
   "cell_type": "markdown",
   "metadata": {},
   "source": [
    "## Convert api docs into json format"
   ]
  },
  {
   "cell_type": "code",
   "execution_count": 6,
   "metadata": {},
   "outputs": [],
   "source": [
    "# Directory containing the .txt files\n",
    "directory = \"api_docs\"\n",
    "\n",
    "# Initialize an empty list to store the data\n",
    "data = []\n",
    "\n",
    "# Loop through all files in the directory\n",
    "for filename in os.listdir(directory):\n",
    "    if filename.endswith(\".txt\"):\n",
    "        function_name = os.path.splitext(filename)[0]  # Get the function name (without .txt)\n",
    "        with open(os.path.join(directory, filename), \"r\", encoding=\"utf-8\") as f:\n",
    "            api_doc = f.read().strip()  # Read the content of the file\n",
    "        # Append the data in the desired format\n",
    "        data.append({\"function_name\": function_name, \"api_doc\": api_doc})\n",
    "\n",
    "# Write the data to a JSON file, each line as a separate JSON object\n",
    "# with open(\"../our_proptest_data/api_docs.jsonl\", \"w\", encoding=\"utf-8\") as json_file:\n",
    "#     for item in data:\n",
    "#         json_file.write(json.dumps(item) + \"\\n\")"
   ]
  },
  {
   "cell_type": "code",
   "execution_count": 7,
   "metadata": {},
   "outputs": [],
   "source": [
    "# Directory containing the .txt files\n",
    "directory = \"api_codes\"\n",
    "\n",
    "# Initialize an empty list to store the data\n",
    "data = []\n",
    "\n",
    "# Loop through all files in the directory\n",
    "for filename in os.listdir(directory):\n",
    "    if filename.endswith(\".py\"):\n",
    "        function_name = os.path.splitext(filename)[0]  # Get the function name (without .txt)\n",
    "        with open(os.path.join(directory, filename), \"r\", encoding=\"utf-8\") as f:\n",
    "            api_doc = f.read().strip()  # Read the content of the file\n",
    "        # Append the data in the desired format\n",
    "        data.append({\"function_name\": function_name, \"api_code\": api_doc})\n",
    "\n",
    "# Write the data to a JSON file, each line as a separate JSON object\n",
    "# with open(\"../our_proptest_data/api_codes.jsonl\", \"w\", encoding=\"utf-8\") as json_file:\n",
    "#     for item in data:\n",
    "#         json_file.write(json.dumps(item) + \"\\n\")"
   ]
  },
  {
   "cell_type": "code",
   "execution_count": 8,
   "metadata": {},
   "outputs": [],
   "source": [
    "api_doc_data = jsonlines_load(\"api_docs.jsonl\")\n",
    "api_code_data = jsonlines_load(\"api_codes.jsonl\")\n",
    "api_doc_code_data = {}\n",
    "\n",
    "for i in range(len(api_doc_data)):\n",
    "    name = api_doc_data[i][\"function_name\"]\n",
    "    if name not in api_doc_code_data:\n",
    "        api_doc_code_data[name] = {}\n",
    "    api_doc_code_data[name].update(api_doc_data[i])\n",
    "\n",
    "for i in range(len(api_code_data)):\n",
    "    name = api_code_data[i][\"function_name\"]\n",
    "    if name not in api_doc_code_data:\n",
    "        api_doc_code_data[name] = {}\n",
    "    api_doc_code_data[name].update(api_code_data[i])\n",
    "\n",
    "api_doc_code_data = list(api_doc_code_data.values())\n",
    "\n",
    "# with open(f\"api_doc_code.jsonl\", \"w\", encoding=\"utf-8\") as json_file:\n",
    "#     for item in api_doc_code_data:\n",
    "#         json_file.write(json.dumps(item)+\"\\n\")"
   ]
  },
  {
   "cell_type": "code",
   "execution_count": 11,
   "metadata": {},
   "outputs": [],
   "source": [
    "# api_doc_code_data = jsonlines_load(\"api_doc_code.jsonl\")\n",
    "# api_code_data = jsonlines_load(\"api_codes.jsonl\")\n",
    "# api_doc_data = jsonlines_load(\"api_docs.jsonl\")\n",
    "\n",
    "# for i in range(len(api_doc_code_data)):\n",
    "#     for j in range(len(api_doc_data)):\n",
    "#         if api_doc_code_data[i]['function_name'] == api_doc_data[j]['function_name']:\n",
    "#             assert api_doc_code_data[i]['api_doc'] == api_doc_data[j]['api_doc']\n",
    "\n",
    "#     for j in range(len(api_code_data)):\n",
    "#         if api_doc_code_data[i]['function_name'] == api_code_data[j]['function_name']:\n",
    "#             assert api_doc_code_data[i]['api_code'] == api_code_data[j]['api_code']\n",
    "    "
   ]
  },
  {
   "cell_type": "markdown",
   "metadata": {},
   "source": [
    "## Convert json format into txt format (property)"
   ]
  },
  {
   "cell_type": "code",
   "execution_count": 13,
   "metadata": {},
   "outputs": [],
   "source": [
    "with open('output_jsonl/property/property_0_30_10-30-20-29.jsonl', 'r') as f:\n",
    "    output_dir = 'properties'\n",
    "    for line in f:\n",
    "        data = json.loads(line.strip())\n",
    "        function_name = data['function_name']\n",
    "        properties = data['properties'][0]\n",
    "\n",
    "        txt_file_name = function_name + '.txt'\n",
    "        txt_file_path = os.path.join(output_dir, txt_file_name)\n",
    "\n",
    "        # with open(txt_file_path, 'w') as txt_file:\n",
    "        #     txt_file.write(properties)"
   ]
  },
  {
   "cell_type": "markdown",
   "metadata": {},
   "source": [
    "## Write json file into .py (pbt)"
   ]
  },
  {
   "cell_type": "code",
   "execution_count": 14,
   "metadata": {},
   "outputs": [],
   "source": [
    "with open('output_jsonl/pbt/pbt_0_30_10-30-20-37.jsonl', 'r') as f:\n",
    "    output_dir = 'proptest'\n",
    "    for line in f:\n",
    "        data = json.loads(line.strip())\n",
    "        function_name = data['function_name']\n",
    "        pbt = data['pbt']\n",
    "        \n",
    "        function_dir = os.path.join(output_dir, function_name)\n",
    "        os.makedirs(function_dir, exist_ok=True)\n",
    "\n",
    "        for i, pbt_data in enumerate(pbt):\n",
    "            j = i+1\n",
    "            if pbt_data.startswith('```python\\n'):\n",
    "                pbt_data = pbt_data[len('```python\\n'):].strip()\n",
    "            if pbt_data.endswith('```'):\n",
    "                pbt_data = pbt_data[:-len('```')].strip()\n",
    "            txt_file_name = f'pbt_{j}.py'\n",
    "            txt_file_path = os.path.join(function_dir, txt_file_name)\n",
    "\n",
    "            # with open(txt_file_path, 'w') as txt_file:\n",
    "            #     txt_file.write(pbt_data)"
   ]
  },
  {
   "cell_type": "markdown",
   "metadata": {},
   "source": [
    "## Write mutants in json format into .py file"
   ]
  },
  {
   "cell_type": "code",
   "execution_count": 21,
   "metadata": {},
   "outputs": [],
   "source": [
    "with open('../our_proptest_data/output_jsonl/mutants/statistics_variance_10-30-18-08.jsonl', 'r') as f:\n",
    "    output_dir = '../our_proptest_data/mutants'\n",
    "    i = 1\n",
    "    for line in f:\n",
    "        data = json.loads(line.strip())\n",
    "        function_name = data['function_name']\n",
    "        mutant_data = data['mutants'][0]\n",
    "        \n",
    "        function_dir = os.path.join(output_dir, function_name)\n",
    "        os.makedirs(function_dir, exist_ok=True)\n",
    "\n",
    "        if mutant_data.startswith('```python\\n'):\n",
    "            mutant_data = mutant_data[len('```python\\n'):].strip()\n",
    "        if mutant_data.endswith('```'):\n",
    "            mutant_data = mutant_data[:-len('```')].strip()\n",
    "        txt_file_name = f'mutant_{i}.py'\n",
    "        txt_file_path = os.path.join(function_dir, txt_file_name)\n",
    "\n",
    "        with open(txt_file_path, 'w') as txt_file:\n",
    "            txt_file.write(mutant_data)\n",
    "        \n",
    "        i += 1"
   ]
  },
  {
   "cell_type": "markdown",
   "metadata": {},
   "source": [
    "## Generate file for mutant generation in json format"
   ]
  },
  {
   "cell_type": "code",
   "execution_count": 20,
   "metadata": {},
   "outputs": [],
   "source": [
    "function_name = \"statistics_variance\"\n",
    "test_property_1 = \"\"\"1. The output variance should always be a non-negative number, as variance cannot be negative due to the squaring of differences from the mean.\"\"\"\n",
    "\n",
    "test_property_2 =  \"\"\"2. If the input data consists of identical values, the output variance should be zero, indicating no variability in the data.\"\"\"\n",
    "\n",
    "properties = [test_property_1, test_property_2]\n",
    "\n",
    "pbt_1 = \"\"\"\n",
    "@given(st.lists(st.floats(min_value=-1e6, max_value=1e6), min_size=2))\n",
    "def test_variance_non_negative_property(data):\n",
    "    result = statistics.variance(data)\n",
    "    assert result >= 0\n",
    "\"\"\".strip()\n",
    "\n",
    "pbt_2 = \"\"\"\n",
    "@given(st.lists(st.floats(min_value=-1e6, max_value=1e6), min_size=2))\n",
    "def test_variance_identical_values_property(data):\n",
    "    if len(set(data)) == 1:  # All values are identical\n",
    "        result = statistics.variance(data)\n",
    "        assert result == 0\n",
    "\"\"\".strip()\n",
    "\n",
    "pbts = [pbt_1, pbt_2]\n",
    "\n",
    "api_doc = \"\"\"statistics.variance(data, xbar=None)\\nReturn the sample variance of data, an iterable of at least two real-valued numbers. Variance, or second moment about the mean, is a measure of the variability (spread or dispersion) of data. A large variance indicates that the data is spread out; a small variance indicates it is clustered closely around the mean.\\n\\nIf the optional second argument xbar is given, it should be the mean of data. If it is missing or None (the default), the mean is automatically calculated.\\n\\nUse this function when your data is a sample from a population. To calculate the variance from the entire population, see pvariance().\\n\\nRaises StatisticsError if data has fewer than two values.\\n\\nExamples:\\n\\n>>> data = [2.75, 1.75, 1.25, 0.25, 0.5, 1.25, 3.5]\\n>>> variance(data)\\n1.3720238095238095\\nIf you have already calculated the mean of your data, you can pass it as the optional second argument xbar to avoid recalculation:\\n\\n>>> m = mean(data)\\n>>> variance(data, m)\\n1.3720238095238095\\nThis function does not attempt to verify that you have passed the actual mean as xbar. Using arbitrary values for xbar can lead to invalid or impossible results.\\n\\nDecimal and Fraction values are supported:\\n\\n>>> from decimal import Decimal as D\\n>>> variance([D(\\\"27.5\\\"), D(\\\"30.25\\\"), D(\\\"30.25\\\"), D(\\\"34.5\\\"), D(\\\"41.75\\\")])\\nDecimal('31.01875')\\n\\n>>> from fractions import Fraction as F\\n>>> variance([F(1, 6), F(1, 2), F(5, 3)])\\nFraction(67, 108)\\nNote This is the sample variance s\\u00b2 with Bessel\\u2019s correction, also known as variance with N-1 degrees of freedom. Provided that the data points are representative (e.g. independent and identically distributed), the result should be an unbiased estimate of the true population variance.\\nIf you somehow know the actual population mean \\u03bc you should pass it to the pvariance() function as the mu parameter to get the variance of a sample.\n",
    "\"\"\".strip()\n",
    "\n",
    "to_save_test_property = {\n",
    "    \"function_name\": \"statistics_variance\",\n",
    "    \"properties\": properties,\n",
    "    \"pbt\": pbts,\n",
    "    'api_doc': api_doc\n",
    "}\n",
    "\n",
    "output_dir = '../our_proptest_data/sound_valid'\n",
    "\n",
    "test_file_name = f\"{function_name}.jsonl\"\n",
    "test_file_path = os.path.join(output_dir, test_file_name)\n",
    "\n",
    "# with open(test_file_path, \"w\", encoding=\"utf-8\") as json_file:\n",
    "#     # for item in data:\n",
    "#     json_file.write(json.dumps(to_save_test_property) + \"\\n\")"
   ]
  }
 ],
 "metadata": {
  "kernelspec": {
   "display_name": "6223_proj",
   "language": "python",
   "name": "python3"
  },
  "language_info": {
   "codemirror_mode": {
    "name": "ipython",
    "version": 3
   },
   "file_extension": ".py",
   "mimetype": "text/x-python",
   "name": "python",
   "nbconvert_exporter": "python",
   "pygments_lexer": "ipython3",
   "version": "3.9.20"
  }
 },
 "nbformat": 4,
 "nbformat_minor": 2
}
