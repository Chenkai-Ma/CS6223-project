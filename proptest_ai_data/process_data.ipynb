{
 "cells": [
  {
   "cell_type": "markdown",
   "metadata": {},
   "source": [
    "# Process data format to make it compatible with OpenAI"
   ]
  },
  {
   "cell_type": "code",
   "execution_count": 2,
   "metadata": {},
   "outputs": [],
   "source": [
    "import os\n",
    "import json"
   ]
  },
  {
   "cell_type": "markdown",
   "metadata": {},
   "source": [
    "## Convert api docs into json format"
   ]
  },
  {
   "cell_type": "code",
   "execution_count": 3,
   "metadata": {},
   "outputs": [],
   "source": [
    "# Directory containing the .txt files\n",
    "directory = \"api_docs\"\n",
    "\n",
    "# Initialize an empty list to store the data\n",
    "data = []\n",
    "\n",
    "# Loop through all files in the directory\n",
    "for filename in os.listdir(directory):\n",
    "    if filename.endswith(\".txt\"):\n",
    "        function_name = os.path.splitext(filename)[0]  # Get the function name (without .txt)\n",
    "        with open(os.path.join(directory, filename), \"r\", encoding=\"utf-8\") as f:\n",
    "            api_doc = f.read().strip()  # Read the content of the file\n",
    "        # Append the data in the desired format\n",
    "        data.append({\"function_name\": function_name, \"api_doc\": api_doc})\n",
    "\n",
    "# Write the data to a JSON file, each line as a separate JSON object\n",
    "# with open(\"../our_proptest_data/api_docs.jsonl\", \"w\", encoding=\"utf-8\") as json_file:\n",
    "#     for item in data:\n",
    "#         json_file.write(json.dumps(item) + \"\\n\")"
   ]
  },
  {
   "cell_type": "markdown",
   "metadata": {},
   "source": [
    "## Convert json format into txt format"
   ]
  },
  {
   "cell_type": "code",
   "execution_count": 5,
   "metadata": {},
   "outputs": [],
   "source": [
    "with open('../our_proptest_data/output/property_1_2.jsonl', 'r') as f:\n",
    "    output_dir = '../our_proptest_data/properties'\n",
    "    for line in f:\n",
    "        data = json.loads(line.strip())\n",
    "        function_name = data['function_name']\n",
    "        properties = data['properties'][0]\n",
    "\n",
    "        txt_file_name = function_name + '.txt'\n",
    "        txt_file_path = os.path.join(output_dir, txt_file_name)\n",
    "\n",
    "        # with open(txt_file_path, 'w') as txt_file:\n",
    "        #     txt_file.write(properties)"
   ]
  },
  {
   "cell_type": "markdown",
   "metadata": {},
   "source": [
    "## Write json file into .py "
   ]
  },
  {
   "cell_type": "code",
   "execution_count": 4,
   "metadata": {},
   "outputs": [],
   "source": [
    "with open('../our_proptest_data/output_jsonl/pbt_0_1.jsonl', 'r') as f:\n",
    "    output_dir = '../our_proptest_data/proptest'\n",
    "    for line in f:\n",
    "        data = json.loads(line.strip())\n",
    "        function_name = data['function_name']\n",
    "        pbt = data['pbt']\n",
    "        \n",
    "        function_dir = os.path.join(output_dir, function_name)\n",
    "        os.makedirs(function_dir, exist_ok=True)\n",
    "\n",
    "        for i, pbt_data in enumerate(pbt):\n",
    "            j = i+1\n",
    "            if pbt_data.startswith('```python\\n'):\n",
    "                pbt_data = pbt_data[len('```python\\n'):].strip()\n",
    "            if pbt_data.endswith('```'):\n",
    "                pbt_data = pbt_data[:-len('```')].strip()\n",
    "            txt_file_name = f'pbt_{j}.py'\n",
    "            txt_file_path = os.path.join(function_dir, txt_file_name)\n",
    "\n",
    "            # with open(txt_file_path, 'w') as txt_file:\n",
    "            #     txt_file.write(pbt_data)"
   ]
  },
  {
   "cell_type": "markdown",
   "metadata": {},
   "source": [
    "## Write mutants in json format into .py file"
   ]
  },
  {
   "cell_type": "code",
   "execution_count": 4,
   "metadata": {},
   "outputs": [],
   "source": [
    "with open('../our_proptest_data/output_jsonl/mutants/statistics_variance.jsonl', 'r') as f:\n",
    "    output_dir = '../our_proptest_data/mutants'\n",
    "    for line in f:\n",
    "        data = json.loads(line.strip())\n",
    "        function_name = data['function_name']\n",
    "        mutants = data['mutants']\n",
    "        \n",
    "        function_dir = os.path.join(output_dir, function_name)\n",
    "        os.makedirs(function_dir, exist_ok=True)\n",
    "\n",
    "        for i, mutant_data in enumerate(mutants):\n",
    "            j = i+1\n",
    "            if mutant_data.startswith('```python\\n'):\n",
    "                mutant_data = mutant_data[len('```python\\n'):].strip()\n",
    "            if mutant_data.endswith('```'):\n",
    "                mutant_data = mutant_data[:-len('```')].strip()\n",
    "            txt_file_name = f'mutant_{j}.py'\n",
    "            txt_file_path = os.path.join(function_dir, txt_file_name)\n",
    "\n",
    "            with open(txt_file_path, 'w') as txt_file:\n",
    "                txt_file.write(mutant_data)"
   ]
  }
 ],
 "metadata": {
  "kernelspec": {
   "display_name": "6223_proj",
   "language": "python",
   "name": "python3"
  },
  "language_info": {
   "codemirror_mode": {
    "name": "ipython",
    "version": 3
   },
   "file_extension": ".py",
   "mimetype": "text/x-python",
   "name": "python",
   "nbconvert_exporter": "python",
   "pygments_lexer": "ipython3",
   "version": "3.9.20"
  }
 },
 "nbformat": 4,
 "nbformat_minor": 2
}
